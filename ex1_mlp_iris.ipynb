{
  "nbformat": 4,
  "nbformat_minor": 0,
  "metadata": {
    "kernelspec": {
      "display_name": "Python 3",
      "language": "python",
      "name": "python3"
    },
    "language_info": {
      "codemirror_mode": {
        "name": "ipython",
        "version": 3
      },
      "file_extension": ".py",
      "mimetype": "text/x-python",
      "name": "python",
      "nbconvert_exporter": "python",
      "pygments_lexer": "ipython3",
      "version": "3.9.1"
    },
    "colab": {
      "name": "ex1-mlp-iris.ipynb",
      "provenance": [],
      "include_colab_link": true
    }
  },
  "cells": [
    {
      "cell_type": "markdown",
      "metadata": {
        "id": "view-in-github",
        "colab_type": "text"
      },
      "source": [
        "<a href=\"https://colab.research.google.com/github/ameneh1376/winter_AI_school/blob/master/ex1_mlp_iris.ipynb\" target=\"_parent\"><img src=\"https://colab.research.google.com/assets/colab-badge.svg\" alt=\"Open In Colab\"/></a>"
      ]
    },
    {
      "cell_type": "markdown",
      "metadata": {
        "id": "lR03_O40GZg1"
      },
      "source": [
        "<center><div style=\"direction:rtl;font-family:B Lotus, B Nazanin, Tahoma\">به نام خدا</div></center>\n",
        "\n",
        "<h1><center><div style=\"direction:rtl;font-family:B Lotus, B Nazanin, Tahoma\">تمرین عملی 1: طبقه بندی با شبکه های تمام متصل روی مجموعه داده IRIS</div></center></h1>"
      ]
    },
    {
      "cell_type": "markdown",
      "metadata": {
        "id": "Bnjzz1C_GZhC"
      },
      "source": [
        "## <div style=\"direction:rtl;text-align:right;font-family:B Lotus, B Nazanin, Tahoma\">صورت مساله</div>\n",
        "\n",
        "\n",
        "<div style=\"direction:rtl;text-align:right;font-family:Tahoma\">\n",
        "در اولین جلسه کارگاه طبقه بندی با شبکه های تمام متصل را دیدیم.\n",
        "<br>\n",
        "توصیه می‌شود حتما نوت بوک‌های زیر را قبل از این تمرین مرور کنید:\n",
        "</div>\n",
        "\n",
        "[04_a Gentle Introduction to Keras - Simple neural network(mlp).ipynb](https://nbviewer.jupyter.org/github/alireza-akhavan/SRU-deeplearning-workshop/blob/master/04_a%20Gentle%20Introduction%20to%20Keras%20-%20Simple%20neural%20network%28mlp%29.ipynb)\n",
        "\n",
        "[05_Dropout.ipynb](https://nbviewer.jupyter.org/github/alireza-akhavan/SRU-deeplearning-workshop/blob/master/05_Dropout.ipynb)\n",
        "\n",
        "<div style=\"direction:rtl;text-align:right;font-family:Tahoma\">\n",
        "در این جلسه با داده های تصویری آشنا شدیم. اما در این تمرین برای اینکه بدانیم کاربرد این مباحث در مسائل غیر تصویری نیز هست  از مجموعه داده ی ساختار یافتهiris  شامل 4 ویژگی برای طول و عرض کاسبرگ و گلبرگ استفاده خواهیم کرد که بتوانیم بر اساس این ویژگی ها نوع گل را از 3 کلاس متفاوت تشخیص دهیم.\n",
        "</div>"
      ]
    },
    {
      "cell_type": "markdown",
      "metadata": {
        "id": "WdzyViqbGZhD"
      },
      "source": [
        "## <div style=\"direction:rtl;text-align:right;font-family:B Lotus, B Nazanin, Tahoma\">لود کتابخانه های مورد نیاز </div>\n",
        "<div style=\"direction:rtl;text-align:right;font-family:Tahoma\">\n",
        "کتابخانه های مورد نیاز این تمرین لود شده اند\n",
        "<br>\n",
        "در صورت نیاز میتوانید کتابخانه های بیشتری لود کنید:\n",
        "</div>"
      ]
    },
    {
      "cell_type": "code",
      "metadata": {
        "id": "A1RGkclHGZhF"
      },
      "source": [
        "import numpy as np\n",
        "import keras\n",
        "from sklearn.datasets import load_iris\n",
        "from sklearn.model_selection import train_test_split\n",
        "from keras.models import Sequential\n",
        "from keras.layers import Dense, Dropout\n",
        "from keras.optimizers import Adam"
      ],
      "execution_count": 21,
      "outputs": []
    },
    {
      "cell_type": "markdown",
      "metadata": {
        "id": "5mHCsY8xGZhF"
      },
      "source": [
        "<div style=\"direction:rtl;text-align:right;font-family:Tahoma\">\n",
        "در این تمرین میخواهیم از مجموعه داده iris استفاده کنیم.\n",
        "<br>\n",
        "توضیحات این مجموعه داده در سایت آن موجود است:\n",
        "</div>\n",
        "\n",
        "https://archive.ics.uci.edu/ml/datasets/iris\n",
        "\n",
        "\n",
        "<div style=\"direction:rtl;text-align:right;font-family:Tahoma\">\n",
        "ویژگی ها و کلاس های این مجموعه داده به شرح زیر است:\n",
        "</div>\n",
        "\n",
        "Attribute Information:\n",
        "\n",
        "1. sepal length in cm\n",
        "2. sepal width in cm\n",
        "3. petal length in cm\n",
        "4. petal width in cm\n",
        "\n",
        "class:\n",
        "\n",
        "    Iris Setosa\n",
        "    Iris Versicolour\n",
        "    Iris Virginica\n",
        "\n",
        "<div style=\"direction:rtl;text-align:right;font-family:Tahoma\">\n",
        "این دیتاست در کتابخانه sklearn موجود است\n",
        "<br>\n",
        "در قطعه کد زیر ویژگی ها را در x و برچسب یا labelهای متناظر را در y لود شده است.\n",
        "</div>"
      ]
    },
    {
      "cell_type": "code",
      "metadata": {
        "id": "NgKoGyhBGZhG"
      },
      "source": [
        "iris_data = load_iris() # load the iris dataset\n",
        "x = iris_data.data\n",
        "y = iris_data.target.reshape(-1, 1) # Convert data to a single column"
      ],
      "execution_count": 22,
      "outputs": []
    },
    {
      "cell_type": "markdown",
      "metadata": {
        "id": "eiE10ht9GZhH"
      },
      "source": [
        "# <div style=\"direction:rtl;text-align:right;font-family:B Lotus, B Nazanin, Tahoma\">سوال 1:</div>\n",
        "<div style=\"direction:rtl;text-align:right;font-family:Tahoma\">\n",
        "برچسب یا label های ما در حال حاضر عددی است.\n",
        "<br>\n",
        "این اعداد 0 تا 2 هستند و به عبارتی 3 حالت مختلف دارند.\n",
        "<br>\n",
        "این برچسب ها را به فرمت one-hot تبدیل کنید و خروجی را مجدد در y بریزید.\n",
        "\n",
        "<br>\n",
        "<b>راهنمایی: </b>\n",
        "از تابع keras.utils.to_categorical استفاده کنید.\n",
        "</div>"
      ]
    },
    {
      "cell_type": "code",
      "metadata": {
        "id": "7aQ9PAlBGZhH"
      },
      "source": [
        "y = keras.utils.to_categorical(y, num_classes=3)"
      ],
      "execution_count": 23,
      "outputs": []
    },
    {
      "cell_type": "markdown",
      "metadata": {
        "id": "ZETJC0JxGZhI"
      },
      "source": [
        "<div style=\"direction:rtl;text-align:right;font-family:Tahoma\">\n",
        "در زیر داده ها  به داده های test و train تقسیم شده است:\n",
        "</div>"
      ]
    },
    {
      "cell_type": "code",
      "metadata": {
        "id": "ZbCmdPp-GZhI"
      },
      "source": [
        "# Split the data for training and testing\n",
        "train_x, test_x, train_y, test_y = train_test_split(x, y, test_size=0.20)"
      ],
      "execution_count": 24,
      "outputs": []
    },
    {
      "cell_type": "markdown",
      "metadata": {
        "id": "gcrG17B_GZhI"
      },
      "source": [
        "# <div style=\"direction:rtl;text-align:right;font-family:B Lotus, B Nazanin, Tahoma\">سوال 2:</div>\n",
        "<div style=\"direction:rtl;text-align:right;font-family:Tahoma\">\n",
        "یک شبکه با دو hidden-layer در هر لایه 10 نوران و تابع فعالیت relu بسازید. یک لایه Dropout با نرخ 0.5 در لایه آخر ماقبل softmax نیز اضافه کنید.\n",
        "</div>"
      ]
    },
    {
      "cell_type": "code",
      "metadata": {
        "id": "isAAjS7uGZhJ"
      },
      "source": [
        "# Build the model\n",
        "model = Sequential()\n",
        "model.add(Dense(10, activation='relu',input_dim=4))\n",
        "model.add(Dense(10, activation='relu'))\n",
        "model.add(Dropout(0.5))\n",
        "model.add(Dense(3, activation='softmax'))\n"
      ],
      "execution_count": 25,
      "outputs": []
    },
    {
      "cell_type": "code",
      "metadata": {
        "colab": {
          "base_uri": "https://localhost:8080/"
        },
        "id": "7B-w_IGoGZhJ",
        "outputId": "fc9c8121-ce2a-48ff-b0a0-c1a7be7d28fc"
      },
      "source": [
        "model.summary()"
      ],
      "execution_count": 26,
      "outputs": [
        {
          "output_type": "stream",
          "text": [
            "Model: \"sequential_6\"\n",
            "_________________________________________________________________\n",
            "Layer (type)                 Output Shape              Param #   \n",
            "=================================================================\n",
            "dense_10 (Dense)             (None, 10)                50        \n",
            "_________________________________________________________________\n",
            "dense_11 (Dense)             (None, 10)                110       \n",
            "_________________________________________________________________\n",
            "dropout_3 (Dropout)          (None, 10)                0         \n",
            "_________________________________________________________________\n",
            "dense_12 (Dense)             (None, 3)                 33        \n",
            "=================================================================\n",
            "Total params: 193\n",
            "Trainable params: 193\n",
            "Non-trainable params: 0\n",
            "_________________________________________________________________\n"
          ],
          "name": "stdout"
        }
      ]
    },
    {
      "cell_type": "markdown",
      "metadata": {
        "id": "6Kr3ElHxGZhJ"
      },
      "source": [
        "<div style=\"direction:rtl;text-align:right;font-family:Tahoma\">در زیر مدل کامپایل شده است.</div>"
      ]
    },
    {
      "cell_type": "code",
      "metadata": {
        "id": "PL4sawiqGZhK"
      },
      "source": [
        "# Adam optimizer with learning rate of 0.001\n",
        "optimizer = Adam(lr=0.001)\n",
        "model.compile(optimizer, loss='categorical_crossentropy', metrics=['accuracy'])"
      ],
      "execution_count": 27,
      "outputs": []
    },
    {
      "cell_type": "markdown",
      "metadata": {
        "id": "Z8TbXCOIGZhK"
      },
      "source": [
        "# <div style=\"direction:rtl;text-align:right;font-family:B Lotus, B Nazanin, Tahoma\">سوال 3:</div>\n",
        "<div style=\"direction:rtl;text-align:right;font-family:Tahoma\">\n",
        "مدل را با  batch_size=5 و تعداد 200 ایپاک آموزش دهید.\n",
        "<br>\n",
        "<b>راهنمایی: </b>\n",
        "از تابع model.fit استفاده کنید.\n",
        "</div>"
      ]
    },
    {
      "cell_type": "code",
      "metadata": {
        "colab": {
          "base_uri": "https://localhost:8080/"
        },
        "id": "c6xqBu1dGZhK",
        "outputId": "48e70f69-a56b-4b9d-b6f0-8baa65cf5377"
      },
      "source": [
        "# Train the model\n",
        "model.fit(train_x, train_y,epochs=200,batch_size=5, validation_split=0.2)"
      ],
      "execution_count": 30,
      "outputs": [
        {
          "output_type": "stream",
          "text": [
            "Epoch 1/200\n",
            "20/20 [==============================] - 1s 17ms/step - loss: 1.3450 - accuracy: 0.4356 - val_loss: 1.1661 - val_accuracy: 0.6667\n",
            "Epoch 2/200\n",
            "20/20 [==============================] - 0s 4ms/step - loss: 1.2738 - accuracy: 0.3796 - val_loss: 1.0800 - val_accuracy: 0.6667\n",
            "Epoch 3/200\n",
            "20/20 [==============================] - 0s 4ms/step - loss: 1.0941 - accuracy: 0.4526 - val_loss: 1.0469 - val_accuracy: 0.6667\n",
            "Epoch 4/200\n",
            "20/20 [==============================] - 0s 4ms/step - loss: 1.1912 - accuracy: 0.4519 - val_loss: 1.0027 - val_accuracy: 0.6667\n",
            "Epoch 5/200\n",
            "20/20 [==============================] - 0s 4ms/step - loss: 1.0342 - accuracy: 0.5150 - val_loss: 0.9710 - val_accuracy: 0.6667\n",
            "Epoch 6/200\n",
            "20/20 [==============================] - 0s 4ms/step - loss: 0.9484 - accuracy: 0.5776 - val_loss: 0.9024 - val_accuracy: 0.7083\n",
            "Epoch 7/200\n",
            "20/20 [==============================] - 0s 4ms/step - loss: 0.9351 - accuracy: 0.5054 - val_loss: 0.8423 - val_accuracy: 0.9167\n",
            "Epoch 8/200\n",
            "20/20 [==============================] - 0s 4ms/step - loss: 1.0124 - accuracy: 0.3854 - val_loss: 0.7908 - val_accuracy: 0.9167\n",
            "Epoch 9/200\n",
            "20/20 [==============================] - 0s 4ms/step - loss: 0.8325 - accuracy: 0.4777 - val_loss: 0.7461 - val_accuracy: 0.7917\n",
            "Epoch 10/200\n",
            "20/20 [==============================] - 0s 4ms/step - loss: 0.8781 - accuracy: 0.4653 - val_loss: 0.7162 - val_accuracy: 0.8333\n",
            "Epoch 11/200\n",
            "20/20 [==============================] - 0s 4ms/step - loss: 0.7674 - accuracy: 0.5738 - val_loss: 0.6743 - val_accuracy: 0.8333\n",
            "Epoch 12/200\n",
            "20/20 [==============================] - 0s 4ms/step - loss: 0.7845 - accuracy: 0.6271 - val_loss: 0.6528 - val_accuracy: 0.7917\n",
            "Epoch 13/200\n",
            "20/20 [==============================] - 0s 4ms/step - loss: 0.8012 - accuracy: 0.4885 - val_loss: 0.6266 - val_accuracy: 0.8333\n",
            "Epoch 14/200\n",
            "20/20 [==============================] - 0s 4ms/step - loss: 0.7463 - accuracy: 0.7238 - val_loss: 0.5998 - val_accuracy: 0.7917\n",
            "Epoch 15/200\n",
            "20/20 [==============================] - 0s 4ms/step - loss: 0.8005 - accuracy: 0.5727 - val_loss: 0.6036 - val_accuracy: 0.9167\n",
            "Epoch 16/200\n",
            "20/20 [==============================] - 0s 4ms/step - loss: 0.7830 - accuracy: 0.4965 - val_loss: 0.5798 - val_accuracy: 0.7917\n",
            "Epoch 17/200\n",
            "20/20 [==============================] - 0s 4ms/step - loss: 0.7707 - accuracy: 0.5877 - val_loss: 0.5631 - val_accuracy: 0.8333\n",
            "Epoch 18/200\n",
            "20/20 [==============================] - 0s 4ms/step - loss: 0.7814 - accuracy: 0.6219 - val_loss: 0.5398 - val_accuracy: 0.7917\n",
            "Epoch 19/200\n",
            "20/20 [==============================] - 0s 4ms/step - loss: 0.7480 - accuracy: 0.4575 - val_loss: 0.5452 - val_accuracy: 0.9583\n",
            "Epoch 20/200\n",
            "20/20 [==============================] - 0s 5ms/step - loss: 0.7808 - accuracy: 0.5416 - val_loss: 0.5280 - val_accuracy: 0.7083\n",
            "Epoch 21/200\n",
            "20/20 [==============================] - 0s 4ms/step - loss: 0.7211 - accuracy: 0.5825 - val_loss: 0.5136 - val_accuracy: 0.8333\n",
            "Epoch 22/200\n",
            "20/20 [==============================] - 0s 4ms/step - loss: 0.7178 - accuracy: 0.5168 - val_loss: 0.5033 - val_accuracy: 0.8333\n",
            "Epoch 23/200\n",
            "20/20 [==============================] - 0s 5ms/step - loss: 0.7253 - accuracy: 0.6449 - val_loss: 0.5031 - val_accuracy: 0.9583\n",
            "Epoch 24/200\n",
            "20/20 [==============================] - 0s 5ms/step - loss: 0.7410 - accuracy: 0.5177 - val_loss: 0.4864 - val_accuracy: 0.8333\n",
            "Epoch 25/200\n",
            "20/20 [==============================] - 0s 4ms/step - loss: 0.6546 - accuracy: 0.5805 - val_loss: 0.4780 - val_accuracy: 0.8333\n",
            "Epoch 26/200\n",
            "20/20 [==============================] - 0s 4ms/step - loss: 0.7130 - accuracy: 0.5635 - val_loss: 0.4724 - val_accuracy: 0.9167\n",
            "Epoch 27/200\n",
            "20/20 [==============================] - 0s 4ms/step - loss: 0.6977 - accuracy: 0.6632 - val_loss: 0.4643 - val_accuracy: 0.7917\n",
            "Epoch 28/200\n",
            "20/20 [==============================] - 0s 4ms/step - loss: 0.7195 - accuracy: 0.6459 - val_loss: 0.4464 - val_accuracy: 0.8333\n",
            "Epoch 29/200\n",
            "20/20 [==============================] - 0s 4ms/step - loss: 0.7475 - accuracy: 0.5219 - val_loss: 0.4433 - val_accuracy: 0.9583\n",
            "Epoch 30/200\n",
            "20/20 [==============================] - 0s 5ms/step - loss: 0.6666 - accuracy: 0.6978 - val_loss: 0.4436 - val_accuracy: 0.9167\n",
            "Epoch 31/200\n",
            "20/20 [==============================] - 0s 4ms/step - loss: 0.6569 - accuracy: 0.6048 - val_loss: 0.4335 - val_accuracy: 0.9167\n",
            "Epoch 32/200\n",
            "20/20 [==============================] - 0s 5ms/step - loss: 0.7510 - accuracy: 0.5617 - val_loss: 0.4304 - val_accuracy: 0.9167\n",
            "Epoch 33/200\n",
            "20/20 [==============================] - 0s 4ms/step - loss: 0.7527 - accuracy: 0.4846 - val_loss: 0.4219 - val_accuracy: 0.9583\n",
            "Epoch 34/200\n",
            "20/20 [==============================] - 0s 4ms/step - loss: 0.6221 - accuracy: 0.7252 - val_loss: 0.4126 - val_accuracy: 0.9167\n",
            "Epoch 35/200\n",
            "20/20 [==============================] - 0s 5ms/step - loss: 0.6913 - accuracy: 0.5931 - val_loss: 0.4151 - val_accuracy: 0.9583\n",
            "Epoch 36/200\n",
            "20/20 [==============================] - 0s 4ms/step - loss: 0.6022 - accuracy: 0.7599 - val_loss: 0.3952 - val_accuracy: 0.9167\n",
            "Epoch 37/200\n",
            "20/20 [==============================] - 0s 4ms/step - loss: 0.6785 - accuracy: 0.5470 - val_loss: 0.3869 - val_accuracy: 0.9583\n",
            "Epoch 38/200\n",
            "20/20 [==============================] - 0s 4ms/step - loss: 0.6434 - accuracy: 0.5830 - val_loss: 0.3806 - val_accuracy: 0.9583\n",
            "Epoch 39/200\n",
            "20/20 [==============================] - 0s 4ms/step - loss: 0.6537 - accuracy: 0.6585 - val_loss: 0.3823 - val_accuracy: 0.9583\n",
            "Epoch 40/200\n",
            "20/20 [==============================] - 0s 4ms/step - loss: 0.6513 - accuracy: 0.6844 - val_loss: 0.3773 - val_accuracy: 0.9167\n",
            "Epoch 41/200\n",
            "20/20 [==============================] - 0s 4ms/step - loss: 0.8005 - accuracy: 0.4348 - val_loss: 0.3803 - val_accuracy: 0.9583\n",
            "Epoch 42/200\n",
            "20/20 [==============================] - 0s 4ms/step - loss: 0.6218 - accuracy: 0.6470 - val_loss: 0.3680 - val_accuracy: 0.9583\n",
            "Epoch 43/200\n",
            "20/20 [==============================] - 0s 4ms/step - loss: 0.6679 - accuracy: 0.5871 - val_loss: 0.3704 - val_accuracy: 0.9583\n",
            "Epoch 44/200\n",
            "20/20 [==============================] - 0s 4ms/step - loss: 0.6095 - accuracy: 0.6243 - val_loss: 0.3568 - val_accuracy: 0.9583\n",
            "Epoch 45/200\n",
            "20/20 [==============================] - 0s 4ms/step - loss: 0.6707 - accuracy: 0.5755 - val_loss: 0.3506 - val_accuracy: 0.9167\n",
            "Epoch 46/200\n",
            "20/20 [==============================] - 0s 4ms/step - loss: 0.5928 - accuracy: 0.6466 - val_loss: 0.3477 - val_accuracy: 0.9583\n",
            "Epoch 47/200\n",
            "20/20 [==============================] - 0s 5ms/step - loss: 0.6103 - accuracy: 0.5977 - val_loss: 0.3419 - val_accuracy: 0.9583\n",
            "Epoch 48/200\n",
            "20/20 [==============================] - 0s 4ms/step - loss: 0.5672 - accuracy: 0.6557 - val_loss: 0.3423 - val_accuracy: 1.0000\n",
            "Epoch 49/200\n",
            "20/20 [==============================] - 0s 4ms/step - loss: 0.6537 - accuracy: 0.5683 - val_loss: 0.3355 - val_accuracy: 0.9583\n",
            "Epoch 50/200\n",
            "20/20 [==============================] - 0s 4ms/step - loss: 0.6643 - accuracy: 0.6466 - val_loss: 0.3307 - val_accuracy: 0.9583\n",
            "Epoch 51/200\n",
            "20/20 [==============================] - 0s 4ms/step - loss: 0.5866 - accuracy: 0.7063 - val_loss: 0.3213 - val_accuracy: 1.0000\n",
            "Epoch 52/200\n",
            "20/20 [==============================] - 0s 4ms/step - loss: 0.6503 - accuracy: 0.7107 - val_loss: 0.3205 - val_accuracy: 0.9583\n",
            "Epoch 53/200\n",
            "20/20 [==============================] - 0s 4ms/step - loss: 0.5272 - accuracy: 0.7827 - val_loss: 0.3147 - val_accuracy: 0.9583\n",
            "Epoch 54/200\n",
            "20/20 [==============================] - 0s 4ms/step - loss: 0.5795 - accuracy: 0.6944 - val_loss: 0.3092 - val_accuracy: 1.0000\n",
            "Epoch 55/200\n",
            "20/20 [==============================] - 0s 4ms/step - loss: 0.6765 - accuracy: 0.6177 - val_loss: 0.3160 - val_accuracy: 0.9583\n",
            "Epoch 56/200\n",
            "20/20 [==============================] - 0s 4ms/step - loss: 0.4956 - accuracy: 0.8118 - val_loss: 0.3035 - val_accuracy: 1.0000\n",
            "Epoch 57/200\n",
            "20/20 [==============================] - 0s 4ms/step - loss: 0.6099 - accuracy: 0.6594 - val_loss: 0.3090 - val_accuracy: 0.9583\n",
            "Epoch 58/200\n",
            "20/20 [==============================] - 0s 5ms/step - loss: 0.5989 - accuracy: 0.7335 - val_loss: 0.2955 - val_accuracy: 1.0000\n",
            "Epoch 59/200\n",
            "20/20 [==============================] - 0s 4ms/step - loss: 0.6074 - accuracy: 0.6924 - val_loss: 0.2918 - val_accuracy: 1.0000\n",
            "Epoch 60/200\n",
            "20/20 [==============================] - 0s 4ms/step - loss: 0.5425 - accuracy: 0.7165 - val_loss: 0.2869 - val_accuracy: 1.0000\n",
            "Epoch 61/200\n",
            "20/20 [==============================] - 0s 4ms/step - loss: 0.5974 - accuracy: 0.7075 - val_loss: 0.2859 - val_accuracy: 1.0000\n",
            "Epoch 62/200\n",
            "20/20 [==============================] - 0s 4ms/step - loss: 0.6390 - accuracy: 0.7210 - val_loss: 0.2813 - val_accuracy: 1.0000\n",
            "Epoch 63/200\n",
            "20/20 [==============================] - 0s 4ms/step - loss: 0.5094 - accuracy: 0.7432 - val_loss: 0.2774 - val_accuracy: 0.9583\n",
            "Epoch 64/200\n",
            "20/20 [==============================] - 0s 4ms/step - loss: 0.6100 - accuracy: 0.6756 - val_loss: 0.2738 - val_accuracy: 1.0000\n",
            "Epoch 65/200\n",
            "20/20 [==============================] - 0s 4ms/step - loss: 0.4853 - accuracy: 0.7277 - val_loss: 0.2742 - val_accuracy: 1.0000\n",
            "Epoch 66/200\n",
            "20/20 [==============================] - 0s 4ms/step - loss: 0.5003 - accuracy: 0.7197 - val_loss: 0.2757 - val_accuracy: 0.9583\n",
            "Epoch 67/200\n",
            "20/20 [==============================] - 0s 4ms/step - loss: 0.5643 - accuracy: 0.7026 - val_loss: 0.2681 - val_accuracy: 1.0000\n",
            "Epoch 68/200\n",
            "20/20 [==============================] - 0s 3ms/step - loss: 0.5438 - accuracy: 0.7343 - val_loss: 0.2704 - val_accuracy: 1.0000\n",
            "Epoch 69/200\n",
            "20/20 [==============================] - 0s 3ms/step - loss: 0.5389 - accuracy: 0.7244 - val_loss: 0.2651 - val_accuracy: 0.9583\n",
            "Epoch 70/200\n",
            "20/20 [==============================] - 0s 4ms/step - loss: 0.5498 - accuracy: 0.7514 - val_loss: 0.2780 - val_accuracy: 0.9583\n",
            "Epoch 71/200\n",
            "20/20 [==============================] - 0s 4ms/step - loss: 0.6510 - accuracy: 0.5506 - val_loss: 0.2544 - val_accuracy: 0.9583\n",
            "Epoch 72/200\n",
            "20/20 [==============================] - 0s 4ms/step - loss: 0.6362 - accuracy: 0.6129 - val_loss: 0.2488 - val_accuracy: 1.0000\n",
            "Epoch 73/200\n",
            "20/20 [==============================] - 0s 3ms/step - loss: 0.5192 - accuracy: 0.7272 - val_loss: 0.2463 - val_accuracy: 1.0000\n",
            "Epoch 74/200\n",
            "20/20 [==============================] - 0s 3ms/step - loss: 0.6875 - accuracy: 0.5756 - val_loss: 0.2542 - val_accuracy: 0.9583\n",
            "Epoch 75/200\n",
            "20/20 [==============================] - 0s 3ms/step - loss: 0.5975 - accuracy: 0.6645 - val_loss: 0.2426 - val_accuracy: 1.0000\n",
            "Epoch 76/200\n",
            "20/20 [==============================] - 0s 3ms/step - loss: 0.4538 - accuracy: 0.7220 - val_loss: 0.2410 - val_accuracy: 1.0000\n",
            "Epoch 77/200\n",
            "20/20 [==============================] - 0s 3ms/step - loss: 0.5623 - accuracy: 0.7540 - val_loss: 0.2466 - val_accuracy: 0.9583\n",
            "Epoch 78/200\n",
            "20/20 [==============================] - 0s 3ms/step - loss: 0.5546 - accuracy: 0.6993 - val_loss: 0.2261 - val_accuracy: 1.0000\n",
            "Epoch 79/200\n",
            "20/20 [==============================] - 0s 3ms/step - loss: 0.5029 - accuracy: 0.7252 - val_loss: 0.2334 - val_accuracy: 0.9583\n",
            "Epoch 80/200\n",
            "20/20 [==============================] - 0s 3ms/step - loss: 0.4706 - accuracy: 0.7338 - val_loss: 0.2244 - val_accuracy: 0.9583\n",
            "Epoch 81/200\n",
            "20/20 [==============================] - 0s 4ms/step - loss: 0.4736 - accuracy: 0.7318 - val_loss: 0.2225 - val_accuracy: 1.0000\n",
            "Epoch 82/200\n",
            "20/20 [==============================] - 0s 4ms/step - loss: 0.5035 - accuracy: 0.7073 - val_loss: 0.2310 - val_accuracy: 0.9583\n",
            "Epoch 83/200\n",
            "20/20 [==============================] - 0s 4ms/step - loss: 0.4729 - accuracy: 0.7991 - val_loss: 0.2159 - val_accuracy: 1.0000\n",
            "Epoch 84/200\n",
            "20/20 [==============================] - 0s 5ms/step - loss: 0.4590 - accuracy: 0.7699 - val_loss: 0.2058 - val_accuracy: 1.0000\n",
            "Epoch 85/200\n",
            "20/20 [==============================] - 0s 4ms/step - loss: 0.5407 - accuracy: 0.6009 - val_loss: 0.2111 - val_accuracy: 0.9583\n",
            "Epoch 86/200\n",
            "20/20 [==============================] - 0s 4ms/step - loss: 0.5182 - accuracy: 0.6991 - val_loss: 0.2074 - val_accuracy: 1.0000\n",
            "Epoch 87/200\n",
            "20/20 [==============================] - 0s 4ms/step - loss: 0.5159 - accuracy: 0.7831 - val_loss: 0.2040 - val_accuracy: 1.0000\n",
            "Epoch 88/200\n",
            "20/20 [==============================] - 0s 4ms/step - loss: 0.4835 - accuracy: 0.7011 - val_loss: 0.2036 - val_accuracy: 1.0000\n",
            "Epoch 89/200\n",
            "20/20 [==============================] - 0s 4ms/step - loss: 0.4314 - accuracy: 0.8314 - val_loss: 0.2105 - val_accuracy: 0.9583\n",
            "Epoch 90/200\n",
            "20/20 [==============================] - 0s 4ms/step - loss: 0.5193 - accuracy: 0.7010 - val_loss: 0.1950 - val_accuracy: 0.9583\n",
            "Epoch 91/200\n",
            "20/20 [==============================] - 0s 5ms/step - loss: 0.4391 - accuracy: 0.7754 - val_loss: 0.1925 - val_accuracy: 0.9583\n",
            "Epoch 92/200\n",
            "20/20 [==============================] - 0s 5ms/step - loss: 0.5440 - accuracy: 0.6901 - val_loss: 0.1922 - val_accuracy: 1.0000\n",
            "Epoch 93/200\n",
            "20/20 [==============================] - 0s 4ms/step - loss: 0.5250 - accuracy: 0.7492 - val_loss: 0.1917 - val_accuracy: 1.0000\n",
            "Epoch 94/200\n",
            "20/20 [==============================] - 0s 4ms/step - loss: 0.5458 - accuracy: 0.6600 - val_loss: 0.1949 - val_accuracy: 0.9583\n",
            "Epoch 95/200\n",
            "20/20 [==============================] - 0s 5ms/step - loss: 0.6039 - accuracy: 0.6862 - val_loss: 0.2064 - val_accuracy: 0.9583\n",
            "Epoch 96/200\n",
            "20/20 [==============================] - 0s 4ms/step - loss: 0.5616 - accuracy: 0.6855 - val_loss: 0.1997 - val_accuracy: 1.0000\n",
            "Epoch 97/200\n",
            "20/20 [==============================] - 0s 4ms/step - loss: 0.5258 - accuracy: 0.7003 - val_loss: 0.1959 - val_accuracy: 0.9583\n",
            "Epoch 98/200\n",
            "20/20 [==============================] - 0s 4ms/step - loss: 0.4982 - accuracy: 0.7617 - val_loss: 0.1959 - val_accuracy: 0.9583\n",
            "Epoch 99/200\n",
            "20/20 [==============================] - 0s 4ms/step - loss: 0.4641 - accuracy: 0.7929 - val_loss: 0.1996 - val_accuracy: 1.0000\n",
            "Epoch 100/200\n",
            "20/20 [==============================] - 0s 4ms/step - loss: 0.5128 - accuracy: 0.7245 - val_loss: 0.2063 - val_accuracy: 0.9583\n",
            "Epoch 101/200\n",
            "20/20 [==============================] - 0s 4ms/step - loss: 0.5456 - accuracy: 0.6872 - val_loss: 0.1972 - val_accuracy: 0.9583\n",
            "Epoch 102/200\n",
            "20/20 [==============================] - 0s 4ms/step - loss: 0.5576 - accuracy: 0.7272 - val_loss: 0.1814 - val_accuracy: 1.0000\n",
            "Epoch 103/200\n",
            "20/20 [==============================] - 0s 4ms/step - loss: 0.5308 - accuracy: 0.7067 - val_loss: 0.1832 - val_accuracy: 0.9583\n",
            "Epoch 104/200\n",
            "20/20 [==============================] - 0s 4ms/step - loss: 0.4842 - accuracy: 0.7046 - val_loss: 0.1779 - val_accuracy: 1.0000\n",
            "Epoch 105/200\n",
            "20/20 [==============================] - 0s 3ms/step - loss: 0.3497 - accuracy: 0.8006 - val_loss: 0.1743 - val_accuracy: 0.9583\n",
            "Epoch 106/200\n",
            "20/20 [==============================] - 0s 3ms/step - loss: 0.4286 - accuracy: 0.7626 - val_loss: 0.1688 - val_accuracy: 0.9583\n",
            "Epoch 107/200\n",
            "20/20 [==============================] - 0s 3ms/step - loss: 0.5060 - accuracy: 0.7123 - val_loss: 0.1623 - val_accuracy: 1.0000\n",
            "Epoch 108/200\n",
            "20/20 [==============================] - 0s 3ms/step - loss: 0.4327 - accuracy: 0.7293 - val_loss: 0.1590 - val_accuracy: 0.9583\n",
            "Epoch 109/200\n",
            "20/20 [==============================] - 0s 4ms/step - loss: 0.4303 - accuracy: 0.7436 - val_loss: 0.1596 - val_accuracy: 1.0000\n",
            "Epoch 110/200\n",
            "20/20 [==============================] - 0s 3ms/step - loss: 0.5345 - accuracy: 0.6533 - val_loss: 0.1743 - val_accuracy: 0.9583\n",
            "Epoch 111/200\n",
            "20/20 [==============================] - 0s 3ms/step - loss: 0.5032 - accuracy: 0.7949 - val_loss: 0.1705 - val_accuracy: 1.0000\n",
            "Epoch 112/200\n",
            "20/20 [==============================] - 0s 3ms/step - loss: 0.4448 - accuracy: 0.7840 - val_loss: 0.1816 - val_accuracy: 0.9583\n",
            "Epoch 113/200\n",
            "20/20 [==============================] - 0s 4ms/step - loss: 0.4995 - accuracy: 0.7071 - val_loss: 0.1651 - val_accuracy: 1.0000\n",
            "Epoch 114/200\n",
            "20/20 [==============================] - 0s 3ms/step - loss: 0.4250 - accuracy: 0.8091 - val_loss: 0.1580 - val_accuracy: 1.0000\n",
            "Epoch 115/200\n",
            "20/20 [==============================] - 0s 3ms/step - loss: 0.4859 - accuracy: 0.7198 - val_loss: 0.1778 - val_accuracy: 0.9583\n",
            "Epoch 116/200\n",
            "20/20 [==============================] - 0s 3ms/step - loss: 0.5342 - accuracy: 0.7149 - val_loss: 0.1618 - val_accuracy: 0.9583\n",
            "Epoch 117/200\n",
            "20/20 [==============================] - 0s 4ms/step - loss: 0.4788 - accuracy: 0.6794 - val_loss: 0.1524 - val_accuracy: 1.0000\n",
            "Epoch 118/200\n",
            "20/20 [==============================] - 0s 4ms/step - loss: 0.3747 - accuracy: 0.8632 - val_loss: 0.1526 - val_accuracy: 0.9583\n",
            "Epoch 119/200\n",
            "20/20 [==============================] - 0s 4ms/step - loss: 0.4631 - accuracy: 0.7766 - val_loss: 0.1637 - val_accuracy: 0.9583\n",
            "Epoch 120/200\n",
            "20/20 [==============================] - 0s 4ms/step - loss: 0.4566 - accuracy: 0.7341 - val_loss: 0.1563 - val_accuracy: 0.9583\n",
            "Epoch 121/200\n",
            "20/20 [==============================] - 0s 4ms/step - loss: 0.3598 - accuracy: 0.7913 - val_loss: 0.1623 - val_accuracy: 0.9583\n",
            "Epoch 122/200\n",
            "20/20 [==============================] - 0s 4ms/step - loss: 0.4241 - accuracy: 0.7762 - val_loss: 0.1675 - val_accuracy: 0.9583\n",
            "Epoch 123/200\n",
            "20/20 [==============================] - 0s 5ms/step - loss: 0.4731 - accuracy: 0.7778 - val_loss: 0.1557 - val_accuracy: 0.9583\n",
            "Epoch 124/200\n",
            "20/20 [==============================] - 0s 4ms/step - loss: 0.4786 - accuracy: 0.7485 - val_loss: 0.1480 - val_accuracy: 1.0000\n",
            "Epoch 125/200\n",
            "20/20 [==============================] - 0s 4ms/step - loss: 0.5160 - accuracy: 0.7429 - val_loss: 0.1515 - val_accuracy: 0.9583\n",
            "Epoch 126/200\n",
            "20/20 [==============================] - 0s 4ms/step - loss: 0.4304 - accuracy: 0.7264 - val_loss: 0.1550 - val_accuracy: 0.9583\n",
            "Epoch 127/200\n",
            "20/20 [==============================] - 0s 4ms/step - loss: 0.4704 - accuracy: 0.7828 - val_loss: 0.1467 - val_accuracy: 0.9583\n",
            "Epoch 128/200\n",
            "20/20 [==============================] - 0s 4ms/step - loss: 0.4552 - accuracy: 0.7339 - val_loss: 0.1614 - val_accuracy: 0.9583\n",
            "Epoch 129/200\n",
            "20/20 [==============================] - 0s 4ms/step - loss: 0.4503 - accuracy: 0.7340 - val_loss: 0.1405 - val_accuracy: 0.9583\n",
            "Epoch 130/200\n",
            "20/20 [==============================] - 0s 4ms/step - loss: 0.5074 - accuracy: 0.7551 - val_loss: 0.1496 - val_accuracy: 0.9583\n",
            "Epoch 131/200\n",
            "20/20 [==============================] - 0s 4ms/step - loss: 0.4740 - accuracy: 0.8017 - val_loss: 0.1416 - val_accuracy: 1.0000\n",
            "Epoch 132/200\n",
            "20/20 [==============================] - 0s 4ms/step - loss: 0.3546 - accuracy: 0.7995 - val_loss: 0.1402 - val_accuracy: 0.9583\n",
            "Epoch 133/200\n",
            "20/20 [==============================] - 0s 4ms/step - loss: 0.4159 - accuracy: 0.7585 - val_loss: 0.1303 - val_accuracy: 0.9583\n",
            "Epoch 134/200\n",
            "20/20 [==============================] - 0s 3ms/step - loss: 0.5053 - accuracy: 0.6910 - val_loss: 0.1325 - val_accuracy: 0.9583\n",
            "Epoch 135/200\n",
            "20/20 [==============================] - 0s 3ms/step - loss: 0.4144 - accuracy: 0.7703 - val_loss: 0.1250 - val_accuracy: 1.0000\n",
            "Epoch 136/200\n",
            "20/20 [==============================] - 0s 3ms/step - loss: 0.4073 - accuracy: 0.7672 - val_loss: 0.1316 - val_accuracy: 0.9583\n",
            "Epoch 137/200\n",
            "20/20 [==============================] - 0s 3ms/step - loss: 0.4700 - accuracy: 0.7349 - val_loss: 0.1283 - val_accuracy: 0.9583\n",
            "Epoch 138/200\n",
            "20/20 [==============================] - 0s 4ms/step - loss: 0.5187 - accuracy: 0.6949 - val_loss: 0.1423 - val_accuracy: 0.9583\n",
            "Epoch 139/200\n",
            "20/20 [==============================] - 0s 3ms/step - loss: 0.4128 - accuracy: 0.7743 - val_loss: 0.1244 - val_accuracy: 0.9583\n",
            "Epoch 140/200\n",
            "20/20 [==============================] - 0s 3ms/step - loss: 0.4401 - accuracy: 0.7627 - val_loss: 0.1217 - val_accuracy: 1.0000\n",
            "Epoch 141/200\n",
            "20/20 [==============================] - 0s 3ms/step - loss: 0.4512 - accuracy: 0.7818 - val_loss: 0.1471 - val_accuracy: 0.9583\n",
            "Epoch 142/200\n",
            "20/20 [==============================] - 0s 3ms/step - loss: 0.4721 - accuracy: 0.7054 - val_loss: 0.1198 - val_accuracy: 1.0000\n",
            "Epoch 143/200\n",
            "20/20 [==============================] - 0s 4ms/step - loss: 0.5210 - accuracy: 0.6649 - val_loss: 0.1560 - val_accuracy: 0.9583\n",
            "Epoch 144/200\n",
            "20/20 [==============================] - 0s 4ms/step - loss: 0.4002 - accuracy: 0.7907 - val_loss: 0.1475 - val_accuracy: 0.9583\n",
            "Epoch 145/200\n",
            "20/20 [==============================] - 0s 4ms/step - loss: 0.5047 - accuracy: 0.7470 - val_loss: 0.1443 - val_accuracy: 0.9583\n",
            "Epoch 146/200\n",
            "20/20 [==============================] - 0s 4ms/step - loss: 0.4950 - accuracy: 0.6868 - val_loss: 0.1350 - val_accuracy: 1.0000\n",
            "Epoch 147/200\n",
            "20/20 [==============================] - 0s 4ms/step - loss: 0.4760 - accuracy: 0.6888 - val_loss: 0.1377 - val_accuracy: 0.9583\n",
            "Epoch 148/200\n",
            "20/20 [==============================] - 0s 4ms/step - loss: 0.5064 - accuracy: 0.7037 - val_loss: 0.1391 - val_accuracy: 0.9583\n",
            "Epoch 149/200\n",
            "20/20 [==============================] - 0s 4ms/step - loss: 0.4993 - accuracy: 0.7622 - val_loss: 0.1183 - val_accuracy: 1.0000\n",
            "Epoch 150/200\n",
            "20/20 [==============================] - 0s 4ms/step - loss: 0.3872 - accuracy: 0.7870 - val_loss: 0.1392 - val_accuracy: 0.9583\n",
            "Epoch 151/200\n",
            "20/20 [==============================] - 0s 4ms/step - loss: 0.5788 - accuracy: 0.6721 - val_loss: 0.1307 - val_accuracy: 1.0000\n",
            "Epoch 152/200\n",
            "20/20 [==============================] - 0s 4ms/step - loss: 0.4228 - accuracy: 0.7980 - val_loss: 0.1369 - val_accuracy: 0.9583\n",
            "Epoch 153/200\n",
            "20/20 [==============================] - 0s 4ms/step - loss: 0.3693 - accuracy: 0.8307 - val_loss: 0.1286 - val_accuracy: 0.9583\n",
            "Epoch 154/200\n",
            "20/20 [==============================] - 0s 4ms/step - loss: 0.5430 - accuracy: 0.6873 - val_loss: 0.1316 - val_accuracy: 0.9583\n",
            "Epoch 155/200\n",
            "20/20 [==============================] - 0s 4ms/step - loss: 0.4484 - accuracy: 0.7632 - val_loss: 0.1204 - val_accuracy: 1.0000\n",
            "Epoch 156/200\n",
            "20/20 [==============================] - 0s 3ms/step - loss: 0.3539 - accuracy: 0.7814 - val_loss: 0.1389 - val_accuracy: 0.9583\n",
            "Epoch 157/200\n",
            "20/20 [==============================] - 0s 4ms/step - loss: 0.4090 - accuracy: 0.7435 - val_loss: 0.1318 - val_accuracy: 0.9583\n",
            "Epoch 158/200\n",
            "20/20 [==============================] - 0s 3ms/step - loss: 0.5222 - accuracy: 0.7438 - val_loss: 0.1258 - val_accuracy: 0.9583\n",
            "Epoch 159/200\n",
            "20/20 [==============================] - 0s 4ms/step - loss: 0.3135 - accuracy: 0.9262 - val_loss: 0.1237 - val_accuracy: 0.9583\n",
            "Epoch 160/200\n",
            "20/20 [==============================] - 0s 4ms/step - loss: 0.4412 - accuracy: 0.7668 - val_loss: 0.1276 - val_accuracy: 0.9583\n",
            "Epoch 161/200\n",
            "20/20 [==============================] - 0s 3ms/step - loss: 0.4406 - accuracy: 0.8241 - val_loss: 0.1369 - val_accuracy: 0.9583\n",
            "Epoch 162/200\n",
            "20/20 [==============================] - 0s 4ms/step - loss: 0.4888 - accuracy: 0.8102 - val_loss: 0.1321 - val_accuracy: 0.9583\n",
            "Epoch 163/200\n",
            "20/20 [==============================] - 0s 3ms/step - loss: 0.3918 - accuracy: 0.8212 - val_loss: 0.1216 - val_accuracy: 1.0000\n",
            "Epoch 164/200\n",
            "20/20 [==============================] - 0s 4ms/step - loss: 0.5446 - accuracy: 0.7069 - val_loss: 0.1220 - val_accuracy: 0.9583\n",
            "Epoch 165/200\n",
            "20/20 [==============================] - 0s 4ms/step - loss: 0.4877 - accuracy: 0.7318 - val_loss: 0.1308 - val_accuracy: 0.9583\n",
            "Epoch 166/200\n",
            "20/20 [==============================] - 0s 3ms/step - loss: 0.4996 - accuracy: 0.7276 - val_loss: 0.1292 - val_accuracy: 0.9583\n",
            "Epoch 167/200\n",
            "20/20 [==============================] - 0s 3ms/step - loss: 0.4456 - accuracy: 0.8752 - val_loss: 0.1189 - val_accuracy: 0.9583\n",
            "Epoch 168/200\n",
            "20/20 [==============================] - 0s 3ms/step - loss: 0.5166 - accuracy: 0.7235 - val_loss: 0.1211 - val_accuracy: 0.9583\n",
            "Epoch 169/200\n",
            "20/20 [==============================] - 0s 4ms/step - loss: 0.4821 - accuracy: 0.7519 - val_loss: 0.1222 - val_accuracy: 1.0000\n",
            "Epoch 170/200\n",
            "20/20 [==============================] - 0s 4ms/step - loss: 0.4552 - accuracy: 0.7198 - val_loss: 0.1236 - val_accuracy: 0.9583\n",
            "Epoch 171/200\n",
            "20/20 [==============================] - 0s 5ms/step - loss: 0.4008 - accuracy: 0.8004 - val_loss: 0.1201 - val_accuracy: 0.9583\n",
            "Epoch 172/200\n",
            "20/20 [==============================] - 0s 4ms/step - loss: 0.4769 - accuracy: 0.7127 - val_loss: 0.1264 - val_accuracy: 0.9583\n",
            "Epoch 173/200\n",
            "20/20 [==============================] - 0s 4ms/step - loss: 0.4169 - accuracy: 0.8274 - val_loss: 0.1277 - val_accuracy: 0.9583\n",
            "Epoch 174/200\n",
            "20/20 [==============================] - 0s 4ms/step - loss: 0.3311 - accuracy: 0.8445 - val_loss: 0.1105 - val_accuracy: 1.0000\n",
            "Epoch 175/200\n",
            "20/20 [==============================] - 0s 4ms/step - loss: 0.5328 - accuracy: 0.7183 - val_loss: 0.1097 - val_accuracy: 0.9583\n",
            "Epoch 176/200\n",
            "20/20 [==============================] - 0s 4ms/step - loss: 0.4880 - accuracy: 0.7324 - val_loss: 0.1172 - val_accuracy: 0.9583\n",
            "Epoch 177/200\n",
            "20/20 [==============================] - 0s 4ms/step - loss: 0.4325 - accuracy: 0.7706 - val_loss: 0.1164 - val_accuracy: 0.9583\n",
            "Epoch 178/200\n",
            "20/20 [==============================] - 0s 5ms/step - loss: 0.4969 - accuracy: 0.7058 - val_loss: 0.1225 - val_accuracy: 0.9583\n",
            "Epoch 179/200\n",
            "20/20 [==============================] - 0s 4ms/step - loss: 0.5009 - accuracy: 0.7471 - val_loss: 0.1193 - val_accuracy: 0.9583\n",
            "Epoch 180/200\n",
            "20/20 [==============================] - 0s 4ms/step - loss: 0.3858 - accuracy: 0.8339 - val_loss: 0.1122 - val_accuracy: 0.9583\n",
            "Epoch 181/200\n",
            "20/20 [==============================] - 0s 4ms/step - loss: 0.4488 - accuracy: 0.7381 - val_loss: 0.1195 - val_accuracy: 0.9583\n",
            "Epoch 182/200\n",
            "20/20 [==============================] - 0s 4ms/step - loss: 0.4372 - accuracy: 0.8088 - val_loss: 0.1110 - val_accuracy: 0.9583\n",
            "Epoch 183/200\n",
            "20/20 [==============================] - 0s 4ms/step - loss: 0.2911 - accuracy: 0.8301 - val_loss: 0.1044 - val_accuracy: 0.9583\n",
            "Epoch 184/200\n",
            "20/20 [==============================] - 0s 4ms/step - loss: 0.6104 - accuracy: 0.7141 - val_loss: 0.1193 - val_accuracy: 0.9583\n",
            "Epoch 185/200\n",
            "20/20 [==============================] - 0s 4ms/step - loss: 0.3749 - accuracy: 0.7453 - val_loss: 0.1081 - val_accuracy: 0.9583\n",
            "Epoch 186/200\n",
            "20/20 [==============================] - 0s 4ms/step - loss: 0.4700 - accuracy: 0.7589 - val_loss: 0.1058 - val_accuracy: 0.9583\n",
            "Epoch 187/200\n",
            "20/20 [==============================] - 0s 5ms/step - loss: 0.4113 - accuracy: 0.8127 - val_loss: 0.1051 - val_accuracy: 0.9583\n",
            "Epoch 188/200\n",
            "20/20 [==============================] - 0s 5ms/step - loss: 0.3272 - accuracy: 0.8472 - val_loss: 0.1183 - val_accuracy: 0.9583\n",
            "Epoch 189/200\n",
            "20/20 [==============================] - 0s 5ms/step - loss: 0.4683 - accuracy: 0.7047 - val_loss: 0.1039 - val_accuracy: 0.9583\n",
            "Epoch 190/200\n",
            "20/20 [==============================] - 0s 4ms/step - loss: 0.3948 - accuracy: 0.7776 - val_loss: 0.1059 - val_accuracy: 0.9583\n",
            "Epoch 191/200\n",
            "20/20 [==============================] - 0s 4ms/step - loss: 0.3974 - accuracy: 0.8192 - val_loss: 0.1154 - val_accuracy: 0.9583\n",
            "Epoch 192/200\n",
            "20/20 [==============================] - 0s 4ms/step - loss: 0.5006 - accuracy: 0.7584 - val_loss: 0.1098 - val_accuracy: 0.9583\n",
            "Epoch 193/200\n",
            "20/20 [==============================] - 0s 4ms/step - loss: 0.4944 - accuracy: 0.7411 - val_loss: 0.1070 - val_accuracy: 1.0000\n",
            "Epoch 194/200\n",
            "20/20 [==============================] - 0s 4ms/step - loss: 0.3421 - accuracy: 0.8589 - val_loss: 0.1074 - val_accuracy: 0.9583\n",
            "Epoch 195/200\n",
            "20/20 [==============================] - 0s 4ms/step - loss: 0.4630 - accuracy: 0.7675 - val_loss: 0.0969 - val_accuracy: 1.0000\n",
            "Epoch 196/200\n",
            "20/20 [==============================] - 0s 4ms/step - loss: 0.4681 - accuracy: 0.8229 - val_loss: 0.1032 - val_accuracy: 0.9583\n",
            "Epoch 197/200\n",
            "20/20 [==============================] - 0s 4ms/step - loss: 0.4651 - accuracy: 0.7999 - val_loss: 0.1101 - val_accuracy: 0.9583\n",
            "Epoch 198/200\n",
            "20/20 [==============================] - 0s 4ms/step - loss: 0.4484 - accuracy: 0.7061 - val_loss: 0.1066 - val_accuracy: 0.9583\n",
            "Epoch 199/200\n",
            "20/20 [==============================] - 0s 4ms/step - loss: 0.4260 - accuracy: 0.7508 - val_loss: 0.1017 - val_accuracy: 0.9583\n",
            "Epoch 200/200\n",
            "20/20 [==============================] - 0s 4ms/step - loss: 0.4785 - accuracy: 0.7466 - val_loss: 0.1066 - val_accuracy: 0.9583\n"
          ],
          "name": "stdout"
        },
        {
          "output_type": "execute_result",
          "data": {
            "text/plain": [
              "<tensorflow.python.keras.callbacks.History at 0x7f0f87484dd0>"
            ]
          },
          "metadata": {
            "tags": []
          },
          "execution_count": 30
        }
      ]
    },
    {
      "cell_type": "markdown",
      "metadata": {
        "id": "nrT9EkuKGZhL"
      },
      "source": [
        "# <div style=\"direction:rtl;text-align:right;font-family:B Lotus, B Nazanin, Tahoma\">سوال 4:</div>\n",
        "<div style=\"direction:rtl;text-align:right;font-family:Tahoma\">\n",
        "مدل را روی داده های test ارزیابی کنید.\n",
        "<br>\n",
        "<b>راهنمایی: </b>\n",
        "از تابع model.evaluate استفاده کنید.\n",
        "</div>"
      ]
    },
    {
      "cell_type": "code",
      "metadata": {
        "colab": {
          "base_uri": "https://localhost:8080/"
        },
        "id": "9hrkI-wNGZhL",
        "outputId": "ebac6d97-c54c-4068-afb7-7d8fda88bd02"
      },
      "source": [
        "# Test on unseen data\n",
        "results = model.evaluate(test_x, test_y)\n",
        "\n",
        "print('Final test set loss: {:4f}'.format(results[0]))\n",
        "print('Final test set accuracy: {:4f}'.format(results[1]))"
      ],
      "execution_count": 31,
      "outputs": [
        {
          "output_type": "stream",
          "text": [
            "1/1 [==============================] - 0s 15ms/step - loss: 0.1306 - accuracy: 1.0000\n",
            "Final test set loss: 0.130603\n",
            "Final test set accuracy: 1.000000\n"
          ],
          "name": "stdout"
        }
      ]
    },
    {
      "cell_type": "markdown",
      "metadata": {
        "id": "mcYSRdQLGZhL"
      },
      "source": [
        "<div class=\"alert alert-block alert-info\">\n",
        "<div style=\"direction:rtl;text-align:right;font-family:B Lotus, B Nazanin, Tahoma\"> دوره مقدماتی یادگیری عمیق<br>علیرضا اخوان پور<br>پنج شنبه، ۱۸ و ۲۵ بهمن ۱۳۹۷<br>\n",
        "</div>\n",
        "<a href=\"http://class.vision\">Class.Vision</a> - <a href=\"http://AkhavanPour.ir\">AkhavanPour.ir</a> - <a href=\"https://github.com/Alireza-Akhavan/\">GitHub</a>\n",
        "\n",
        "</div>"
      ]
    }
  ]
}